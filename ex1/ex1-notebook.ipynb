{
 "cells": [
  {
   "cell_type": "markdown",
   "metadata": {},
   "source": [
    "# Machine Learning: Programming Exercise 1\n",
    "\n",
    "## Linear Regression\n",
    "In this exercise, you will implement linear regression and get to see it work on data.\n",
    "Files needed for this exercise\n",
    "\n",
    "1. ex1-notebook.ipynb - R Notebook that steps you through the exercise\n",
    "2. ex1data1.txt - Dataset for linear regression with one variable\n",
    "3. ex1data2.txt - Dataset for linear regression with multiple variables\n",
    "4. submit.R - Submission script that sends your solutions to our servers\n",
    "\n",
    "\n",
    "* warmUpExercise.m - Simple example function in MATLAB\n",
    "* plotData.m - Function to display the dataset\n",
    "* computeCost.m - Function to compute the cost of linear regression\n",
    "* gradientDescent.m - Function to run gradient descent\n",
    "* computeCostMulti.m - Cost function for multiple variables**\n",
    "* gradientDescentMulti.m - Gradient descent for multiple variables**\n",
    "* featureNormalize.m - Function to normalize features**\n",
    "* normalEqn.m - Function to compute the normal equations**\n",
    "\n",
    "** indicates optional exercises\n",
    "\n",
    "Clear existing variables and confirm that your Current Folder is set correctly\n",
    "\n",
    "## Before you begin\n",
    "The workflow for completing and submitting the programming exercises in MATLAB Online differs from the original course instructions. Before beginning this exercise, make sure you have read through the instructions in README.mlx which is included with the programming exercise files. README.mlx also contains solutions to the many common issues you may encounter while completing and submitting the exercises in MATLAB Online. Make sure you are following instructions in README.mlx and have checked for an existing solution before seeking help on the discussion forums.\n",
    "\n",
    "### A simple R function\n",
    "The first part of this script gives you practice with R syntax and the homework submission process. In the file warmUpExercise.R, you will find the outline of a R function. Modify it to return a 5 x 5 identity matrix by filling in the following code:\n",
    "\n",
    "  A <- diag(5)\n",
    "  \n",
    "When you are finished, save warmUpExercise.R, then run the code contained in this section to call warmUpExercise(). \n",
    "5x5 Identity Matrix:\n",
    "\n",
    "warmUpExercise()\n",
    "\n",
    "You should see output similar to the following:"
   ]
  },
  {
   "cell_type": "code",
   "execution_count": 19,
   "metadata": {},
   "outputs": [
    {
     "data": {
      "text/html": [
       "<table>\n",
       "<tbody>\n",
       "\t<tr><td>1</td><td>0</td><td>0</td><td>0</td><td>0</td></tr>\n",
       "\t<tr><td>0</td><td>1</td><td>0</td><td>0</td><td>0</td></tr>\n",
       "\t<tr><td>0</td><td>0</td><td>1</td><td>0</td><td>0</td></tr>\n",
       "\t<tr><td>0</td><td>0</td><td>0</td><td>1</td><td>0</td></tr>\n",
       "\t<tr><td>0</td><td>0</td><td>0</td><td>0</td><td>1</td></tr>\n",
       "</tbody>\n",
       "</table>\n"
      ],
      "text/latex": [
       "\\begin{tabular}{lllll}\n",
       "\t 1 & 0 & 0 & 0 & 0\\\\\n",
       "\t 0 & 1 & 0 & 0 & 0\\\\\n",
       "\t 0 & 0 & 1 & 0 & 0\\\\\n",
       "\t 0 & 0 & 0 & 1 & 0\\\\\n",
       "\t 0 & 0 & 0 & 0 & 1\\\\\n",
       "\\end{tabular}\n"
      ],
      "text/markdown": [
       "\n",
       "| 1 | 0 | 0 | 0 | 0 |\n",
       "| 0 | 1 | 0 | 0 | 0 |\n",
       "| 0 | 0 | 1 | 0 | 0 |\n",
       "| 0 | 0 | 0 | 1 | 0 |\n",
       "| 0 | 0 | 0 | 0 | 1 |\n",
       "\n"
      ],
      "text/plain": [
       "     [,1] [,2] [,3] [,4] [,5]\n",
       "[1,] 1    0    0    0    0   \n",
       "[2,] 0    1    0    0    0   \n",
       "[3,] 0    0    1    0    0   \n",
       "[4,] 0    0    0    1    0   \n",
       "[5,] 0    0    0    0    1   "
      ]
     },
     "metadata": {},
     "output_type": "display_data"
    }
   ],
   "source": [
    "diag(5)"
   ]
  },
  {
   "cell_type": "markdown",
   "metadata": {},
   "source": [
    "#### Submitting Solutions\n",
    "\n",
    "After completing a part of the exercise, you can submit your solutions for that section by running the section of code below, which calls the submit.R script. Your score for each section will then be displayed as output. Enter your login and your unique submission token inside the command window when prompted. For future submissions of this exercise, you will only be asked to confirm your credentials. Your submission token for each exercise is found in the corresponding homework assignment course page. New tokens can be generated if you are experiencing issues with your current token. You are allowed to submit your solutions multiple times, and we will take only the highest score into consideration.\n",
    "\n",
    "You should now submit your solutions.  Enter submit at the command prompt, then enter your login and token when prompted.\n",
    "\n",
    "### Linear regression with one variable\n",
    "\n",
    "In this part of this exercise, you will implement linear regression with one variable to predict profits for a food truck. Suppose you are the CEO of a restaurant franchise and are considering different cities for opening a new outlet. The chain already has trucks in various cities and you have data for profits and populations from the cities. You would like to use this data to help you select which city to expand to next.\n",
    "\n",
    "The file ex1data1.txt contains the dataset for our linear regression problem. The first column is the population of a city and the second column is the profit of a food truck in that city. A negative value for profit indicates a loss. This script has already been set up to load this data for you.\n",
    "\n",
    "#### Plotting the data\n",
    "Before starting on any task, it is often useful to understand the data by visualizing it. For this dataset, you can use a scatter plot to visualize the data, since it has only two properties to plot (profit and population). Many other problems that you will encounter in real life are multi-dimensional and can't be plotted on a 2-d plot.\n",
    "\n",
    "Run the code below to load the dataset from the data file into the variables X and y:"
   ]
  },
  {
   "cell_type": "code",
   "execution_count": 24,
   "metadata": {},
   "outputs": [],
   "source": [
    "data <- read.table('ex1data1.txt', sep=',')\n",
    "colnames(data) <- c('X', 'y')\n",
    "X <- data$X\n",
    "y <- data$y"
   ]
  },
  {
   "cell_type": "code",
   "execution_count": 25,
   "metadata": {},
   "outputs": [
    {
     "data": {
      "text/html": [
       "<table>\n",
       "<thead><tr><th scope=col>X</th><th scope=col>y</th></tr></thead>\n",
       "<tbody>\n",
       "\t<tr><td>6.1101 </td><td>17.5920</td></tr>\n",
       "\t<tr><td>5.5277 </td><td> 9.1302</td></tr>\n",
       "\t<tr><td>8.5186 </td><td>13.6620</td></tr>\n",
       "\t<tr><td>7.0032 </td><td>11.8540</td></tr>\n",
       "\t<tr><td>5.8598 </td><td> 6.8233</td></tr>\n",
       "\t<tr><td>8.3829 </td><td>11.8860</td></tr>\n",
       "</tbody>\n",
       "</table>\n"
      ],
      "text/latex": [
       "\\begin{tabular}{r|ll}\n",
       " X & y\\\\\n",
       "\\hline\n",
       "\t 6.1101  & 17.5920\\\\\n",
       "\t 5.5277  &  9.1302\\\\\n",
       "\t 8.5186  & 13.6620\\\\\n",
       "\t 7.0032  & 11.8540\\\\\n",
       "\t 5.8598  &  6.8233\\\\\n",
       "\t 8.3829  & 11.8860\\\\\n",
       "\\end{tabular}\n"
      ],
      "text/markdown": [
       "\n",
       "| X | y |\n",
       "|---|---|\n",
       "| 6.1101  | 17.5920 |\n",
       "| 5.5277  |  9.1302 |\n",
       "| 8.5186  | 13.6620 |\n",
       "| 7.0032  | 11.8540 |\n",
       "| 5.8598  |  6.8233 |\n",
       "| 8.3829  | 11.8860 |\n",
       "\n"
      ],
      "text/plain": [
       "  X      y      \n",
       "1 6.1101 17.5920\n",
       "2 5.5277  9.1302\n",
       "3 8.5186 13.6620\n",
       "4 7.0032 11.8540\n",
       "5 5.8598  6.8233\n",
       "6 8.3829 11.8860"
      ]
     },
     "metadata": {},
     "output_type": "display_data"
    }
   ],
   "source": [
    "head(data)"
   ]
  },
  {
   "cell_type": "markdown",
   "metadata": {},
   "source": [
    "Your job is to complete plotData.R to draw the plot; modify the file and fill in the following code:"
   ]
  },
  {
   "cell_type": "code",
   "execution_count": 26,
   "metadata": {},
   "outputs": [
    {
     "data": {
      "image/png": "[encoded data removed]",
      "text/plain": [
       "plot without title"
      ]
     },
     "metadata": {},
     "output_type": "display_data"
    }
   ],
   "source": [
    "plot(X, y, col = \"red\", pch = 4,cex = 1.1,lwd = 2,\n",
    "xlab = 'Profit in $10,000s',\n",
    "ylab = 'Population of City in 10,000s')"
   ]
  },
  {
   "cell_type": "markdown",
   "metadata": {},
   "source": [
    "To learn more about the plot command, you can run the command help plot at the command prompt, type ?plot"
   ]
  },
  {
   "cell_type": "code",
   "execution_count": null,
   "metadata": {},
   "outputs": [],
   "source": []
  }
 ],
 "metadata": {
  "kernelspec": {
   "display_name": "R",
   "language": "R",
   "name": "ir"
  },
  "language_info": {
   "codemirror_mode": "r",
   "file_extension": ".r",
   "mimetype": "text/x-r-source",
   "name": "R",
   "pygments_lexer": "r",
   "version": "3.6.1"
  }
 },
 "nbformat": 4,
 "nbformat_minor": 4
}
