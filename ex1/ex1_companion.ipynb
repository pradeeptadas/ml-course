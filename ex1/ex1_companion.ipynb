{
 "cells": [
  {
   "cell_type": "markdown",
   "metadata": {},
   "source": [
    "## Linear Regression with One Variable\n",
    "\n",
    "This section covers the R implementation of single variable linear regression corresponding to the first part of ex1.\n",
    "\n",
    "Recall that the file ex1data1.txt contains two columns of data: the first column corresponds to the populations of cities and the second column contains the profit of food trucks in those cities. \n",
    "\n",
    "### Load the data into a table\n",
    "\n",
    "The data.frame datatype is now the preferred datatype for most data analysis and machine learning tasks in R. In this script we will use data.frame instead of vectors and matrices. A data.frame consists of rows and columns where each column corresponds to a variable, and each row corresponds to an observation. \n",
    "\n",
    "Run the code below to:\n",
    "\n",
    "* Read the profit data into a table using the readtable function\n",
    "* Add descriptive names to the table variables\n",
    "* Observe first few rows of data\n",
    "* Compute summary statistics on each variable"
   ]
  },
  {
   "cell_type": "code",
   "execution_count": 6,
   "metadata": {},
   "outputs": [
    {
     "name": "stderr",
     "output_type": "stream",
     "text": [
      "Registered S3 methods overwritten by 'ggplot2':\n",
      "  method         from \n",
      "  [.quosures     rlang\n",
      "  c.quosures     rlang\n",
      "  print.quosures rlang\n"
     ]
    }
   ],
   "source": [
    "library(ggplot2)"
   ]
  },
  {
   "cell_type": "code",
   "execution_count": 7,
   "metadata": {},
   "outputs": [
    {
     "name": "stdout",
     "output_type": "stream",
     "text": [
      "  Population  Profit\n",
      "1     6.1101 17.5920\n",
      "2     5.5277  9.1302\n",
      "3     8.5186 13.6620\n",
      "4     7.0032 11.8540\n",
      "5     5.8598  6.8233\n",
      "6     8.3829 11.8860\n",
      "   Population         Profit      \n",
      " Min.   : 5.027   Min.   :-2.681  \n",
      " 1st Qu.: 5.708   1st Qu.: 1.987  \n",
      " Median : 6.589   Median : 4.562  \n",
      " Mean   : 8.160   Mean   : 5.839  \n",
      " 3rd Qu.: 8.578   3rd Qu.: 7.047  \n",
      " Max.   :22.203   Max.   :24.147  \n"
     ]
    }
   ],
   "source": [
    "data <- read.table('ex1data1.txt', sep=',')\n",
    "colnames(data) <- c('Population','Profit')\n",
    "print(head(data))\n",
    "print(summary(data))"
   ]
  },
  {
   "cell_type": "markdown",
   "metadata": {},
   "source": [
    "Use the ?data.frame to view descriptions for working with data.frame variables displayed above.\n",
    "\n",
    "## Fit a linear model using the lm function\n",
    "There are many functions available in the Statistics and Machine Learning Toolbox for fitting a model to data. To fit a linear regression model to the data in our table, we'll use the lm function. As we will see, there is no need to add a column of ones to the data for a bias term, to create a separate cost function, or to implement gradient descent to converge on the model parameters as in ex1- these tasks are automatically taken care of by lm. The output of lm is a LinearModel variable which contains all of the information about the model. \n",
    "\n",
    "Run the code in this section to fit the linear model. The model coefficients ($\\theta$) are extracted from the model variable and printed out for you below- compare to your results from ex1. After running, double-click on the variable linMdl in the Global Environment to examine its properties further. Variable properties can also be extracted and displayed using the '$' operator, as in the code below used to extract the Coefficients property. The result is a table of the model coefficients and additional statistical information."
   ]
  },
  {
   "cell_type": "code",
   "execution_count": 8,
   "metadata": {},
   "outputs": [
    {
     "name": "stdout",
     "output_type": "stream",
     "text": [
      "\n",
      "Call:\n",
      "lm(formula = Profit ~ Population, data = data)\n",
      "\n",
      "Residuals:\n",
      "    Min      1Q  Median      3Q     Max \n",
      "-5.8540 -1.9686 -0.5407  1.5360 14.1982 \n",
      "\n",
      "Coefficients:\n",
      "            Estimate Std. Error t value Pr(>|t|)    \n",
      "(Intercept) -3.89578    0.71948  -5.415 4.61e-07 ***\n",
      "Population   1.19303    0.07974  14.961  < 2e-16 ***\n",
      "---\n",
      "Signif. codes:  0 '***' 0.001 '**' 0.01 '*' 0.05 '.' 0.1 ' ' 1\n",
      "\n",
      "Residual standard error: 3.024 on 95 degrees of freedom\n",
      "Multiple R-squared:  0.702,\tAdjusted R-squared:  0.6989 \n",
      "F-statistic: 223.8 on 1 and 95 DF,  p-value: < 2.2e-16\n",
      "\n",
      "Theta computed by fitlm: [ -3.895781 ,  1.193034 ]"
     ]
    }
   ],
   "source": [
    "linMdl <- lm(Profit~Population, data=data);\n",
    "print(summary(linMdl))\n",
    "theta <- linMdl$coefficients\n",
    "cat('Theta computed by fitlm: [', theta[1], ', ', theta[2], ']')"
   ]
  },
  {
   "cell_type": "markdown",
   "metadata": {},
   "source": [
    "### Making predictions using the LinearModel variable\n",
    "Below we use the predict function to predict profit for different populations using the model trained in the previous section. Note that the first input to predict is a trained model variable, while the second input is a feature value or list of values in the form of a vector, matrix or table. Run the code in this section and compare with your results from ex1."
   ]
  },
  {
   "cell_type": "code",
   "execution_count": 9,
   "metadata": {},
   "outputs": [
    {
     "name": "stdout",
     "output_type": "stream",
     "text": [
      "For population = 35,000, we predict a profit of  2798.369For population = 70,000, we predict a profit of  44554.55"
     ]
    },
    {
     "data": {
      "image/png": "[encoded data removed]",
      "text/plain": [
       "plot without title"
      ]
     },
     "metadata": {},
     "output_type": "display_data"
    }
   ],
   "source": [
    "# Predict values for population sizes of 35,000 and 70,000\n",
    "predict1 <- predict(linMdl,data.frame(\"Population\"=3.5));\n",
    "cat('For population = 35,000, we predict a profit of ', predict1*10000);\n",
    "\n",
    "predict2 = predict(linMdl, data.frame(\"Population\"=7));\n",
    "cat('For population = 70,000, we predict a profit of ', predict2*10000);\n",
    "\n",
    "# Plot the linear fit\n",
    "linMdl.fitted <- fitted.values(linMdl)\n",
    "\n",
    "ggplot(data, aes(x=linMdl.fitted, y=Profit)) +\n",
    "    geom_point(shape=16) +\n",
    "    geom_smooth(method=lm)"
   ]
  },
  {
   "cell_type": "markdown",
   "metadata": {},
   "source": [
    "## Linear Regression with Multiple Variables\n",
    "\n",
    "### Load and preview the data\n",
    "\n",
    "Recall that the file ex1data2.txt contains a training set of housing prices in Portland, Oregon. Each row corresponds to a house where the element in the first column is the size of the house (in square feet), the second column is the number of bedrooms, and the third column is the price of the house. Run this section to load the data into a table. After a table is displayed as output you can perform basic sort and filter operations on a given columns as follows:\n",
    "\n",
    "* Hover the mouse pointer over the desired variable name (column heading)\n",
    "* Click on the down arrow when it appears\n",
    "* Choose the desired sort option to sort all rows in the table based on the value in that variable OR\n",
    "* Enter a specific range in the boxes provided to select only rows whose value for the selected variable falls inside that range\n",
    "* The MATLAB code required to perform 3 and/or 4 is automatically displayed below the table. If desired, the code can be copied to the clipboard or added to the script using the 'Copy' and 'Update' code buttons.\n",
    "\n",
    "\n",
    "After running this section, experiment with sorting and filtering the data table below. (Since we want to use all the observations in data, there is no need to copy the code or add it to the script.)"
   ]
  },
  {
   "cell_type": "code",
   "execution_count": 10,
   "metadata": {},
   "outputs": [
    {
     "name": "stdout",
     "output_type": "stream",
     "text": [
      "  Size Bedrooms  Price\n",
      "1 2104        3 399900\n",
      "2 1600        3 329900\n",
      "3 2400        3 369000\n",
      "4 1416        2 232000\n",
      "5 3000        4 539900\n",
      "6 1985        4 299900\n",
      "      Size         Bedrooms        Price       \n",
      " Min.   : 852   Min.   :1.00   Min.   :169900  \n",
      " 1st Qu.:1432   1st Qu.:3.00   1st Qu.:249900  \n",
      " Median :1888   Median :3.00   Median :299900  \n",
      " Mean   :2001   Mean   :3.17   Mean   :340413  \n",
      " 3rd Qu.:2269   3rd Qu.:4.00   3rd Qu.:384450  \n",
      " Max.   :4478   Max.   :5.00   Max.   :699900  \n"
     ]
    }
   ],
   "source": [
    "data <- read.table('ex1data2.txt', sep=',')\n",
    "colnames(data) <- c('Size', 'Bedrooms', 'Price')\n",
    "print(head(data))\n",
    "print(summary(data))"
   ]
  },
  {
   "cell_type": "markdown",
   "metadata": {},
   "source": [
    "## Fit a linear model using fitlm and estimate housing prices\n",
    "The lm function can be used to fit a regression model with multiple variables as well. A different response variable can be specified, if desired- see the lm documentation for more information. Run this section to fit a linear model, display the model the coefficients, and predict the price of a 1650 sqft, 3-bedroom house. Compare with your results from ex1."
   ]
  },
  {
   "cell_type": "code",
   "execution_count": 12,
   "metadata": {},
   "outputs": [
    {
     "name": "stdout",
     "output_type": "stream",
     "text": [
      "\n",
      "Call:\n",
      "lm(formula = Price ~ Size + Bedrooms, data = data)\n",
      "\n",
      "Residuals:\n",
      "    Min      1Q  Median      3Q     Max \n",
      "-130582  -43636  -10829   43698  198147 \n",
      "\n",
      "Coefficients:\n",
      "            Estimate Std. Error t value Pr(>|t|)    \n",
      "(Intercept)  89597.9    41767.4   2.145   0.0375 *  \n",
      "Size           139.2       14.8   9.409 4.22e-12 ***\n",
      "Bedrooms     -8738.0    15450.7  -0.566   0.5746    \n",
      "---\n",
      "Signif. codes:  0 '***' 0.001 '**' 0.01 '*' 0.05 '.' 0.1 ' ' 1\n",
      "\n",
      "Residual standard error: 66070 on 44 degrees of freedom\n",
      "Multiple R-squared:  0.7329,\tAdjusted R-squared:  0.7208 \n",
      "F-statistic: 60.38 on 2 and 44 DF,  p-value: 2.428e-13\n",
      "\n",
      "Theta computed by fitlm: [ 89597.91 ,  139.2107 ]"
     ]
    }
   ],
   "source": [
    "linMdl <- lm(Price~Size+Bedrooms, data=data);\n",
    "print(summary(linMdl))\n",
    "theta <- linMdl$coefficients\n",
    "cat('Theta computed by fitlm: [', theta[1], ', ', theta[2], ']')"
   ]
  },
  {
   "cell_type": "code",
   "execution_count": 13,
   "metadata": {},
   "outputs": [
    {
     "name": "stdout",
     "output_type": "stream",
     "text": [
      "Predicted price of a 1650 sq-ft, 3 br house: $ 293081.5"
     ]
    }
   ],
   "source": [
    "price <- predict(linMdl, data.frame(\"Size\" = 1650, \"Bedrooms\" = 3))\n",
    "cat('Predicted price of a 1650 sq-ft, 3 br house: $', price);"
   ]
  }
 ],
 "metadata": {
  "kernelspec": {
   "display_name": "R",
   "language": "R",
   "name": "ir"
  },
  "language_info": {
   "codemirror_mode": "r",
   "file_extension": ".r",
   "mimetype": "text/x-r-source",
   "name": "R",
   "pygments_lexer": "r",
   "version": "3.6.1"
  }
 },
 "nbformat": 4,
 "nbformat_minor": 4
}
